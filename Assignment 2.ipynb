{
 "cells": [
  {
   "cell_type": "markdown",
   "id": "91021cec",
   "metadata": {},
   "source": [
    "# Assignment 2"
   ]
  },
  {
   "cell_type": "markdown",
   "id": "f7b7cc13",
   "metadata": {},
   "source": [
    "1) What are the two values of the Boolean data type? How do you write them?"
   ]
  },
  {
   "cell_type": "markdown",
   "id": "23d05f4b",
   "metadata": {},
   "source": [
    "    Ans - True and False are the two values of the Boolean data types. it is used to test whether the result of an expression is True or False."
   ]
  },
  {
   "cell_type": "markdown",
   "id": "f36a6cc3",
   "metadata": {},
   "source": [
    "2) What are the three different types of Boolean operators?"
   ]
  },
  {
   "cell_type": "markdown",
   "id": "f7418796",
   "metadata": {},
   "source": [
    "    Ans - AND, OR , and NOT are the three different type of Boolean operators."
   ]
  },
  {
   "cell_type": "markdown",
   "id": "2fa93939",
   "metadata": {},
   "source": [
    "3) Make a list of each Boolean operator's truth tables (i.e. every possible combination of Boolean\n",
    "values for the operator and what it evaluate )."
   ]
  },
  {
   "cell_type": "markdown",
   "id": "535699fb",
   "metadata": {},
   "source": [
    "    Ans - condition(1) - [False,False,True,True]"
   ]
  },
  {
   "cell_type": "markdown",
   "id": "db9bce72",
   "metadata": {},
   "source": [
    "          condition(2) - [False,True,False,True]"
   ]
  },
  {
   "cell_type": "markdown",
   "id": "c1e2086d",
   "metadata": {},
   "source": [
    "                  AND  - [False,False,False,True]"
   ]
  },
  {
   "cell_type": "markdown",
   "id": "75856929",
   "metadata": {},
   "source": [
    "                  OR   - [False,True,True,True]  "
   ]
  },
  {
   "cell_type": "markdown",
   "id": "f6c06afe",
   "metadata": {},
   "source": [
    "                  NOT  - [True,True,False,False]"
   ]
  },
  {
   "cell_type": "markdown",
   "id": "46e04bd9",
   "metadata": {},
   "source": [
    "4) What are the values of the following expressions?"
   ]
  },
  {
   "cell_type": "code",
   "execution_count": 4,
   "id": "0dcfe32e",
   "metadata": {},
   "outputs": [
    {
     "data": {
      "text/plain": [
       "False"
      ]
     },
     "execution_count": 4,
     "metadata": {},
     "output_type": "execute_result"
    }
   ],
   "source": [
    "(5>4) and (3==5)"
   ]
  },
  {
   "cell_type": "code",
   "execution_count": 5,
   "id": "0c5fd387",
   "metadata": {},
   "outputs": [
    {
     "data": {
      "text/plain": [
       "False"
      ]
     },
     "execution_count": 5,
     "metadata": {},
     "output_type": "execute_result"
    }
   ],
   "source": [
    "not (5 > 4)"
   ]
  },
  {
   "cell_type": "code",
   "execution_count": 6,
   "id": "f2cc21ff",
   "metadata": {},
   "outputs": [
    {
     "data": {
      "text/plain": [
       "True"
      ]
     },
     "execution_count": 6,
     "metadata": {},
     "output_type": "execute_result"
    }
   ],
   "source": [
    "(5 > 4) or (3 == 5)"
   ]
  },
  {
   "cell_type": "code",
   "execution_count": 7,
   "id": "7eb23ba6",
   "metadata": {},
   "outputs": [
    {
     "data": {
      "text/plain": [
       "False"
      ]
     },
     "execution_count": 7,
     "metadata": {},
     "output_type": "execute_result"
    }
   ],
   "source": [
    "not ((5 > 4) or (3 == 5))"
   ]
  },
  {
   "cell_type": "code",
   "execution_count": 8,
   "id": "b2cc6870",
   "metadata": {},
   "outputs": [
    {
     "data": {
      "text/plain": [
       "False"
      ]
     },
     "execution_count": 8,
     "metadata": {},
     "output_type": "execute_result"
    }
   ],
   "source": [
    "(True and True) and (True == False)"
   ]
  },
  {
   "cell_type": "code",
   "execution_count": 9,
   "id": "da8147bb",
   "metadata": {},
   "outputs": [
    {
     "data": {
      "text/plain": [
       "True"
      ]
     },
     "execution_count": 9,
     "metadata": {},
     "output_type": "execute_result"
    }
   ],
   "source": [
    "(not False) or (not True)"
   ]
  },
  {
   "cell_type": "markdown",
   "id": "22e28cc8",
   "metadata": {},
   "source": [
    "5) What are the six comparison operators?"
   ]
  },
  {
   "cell_type": "markdown",
   "id": "4eeb1676",
   "metadata": {},
   "source": [
    "    Ans - ==, < , > , <= , >=, != are the six comparison operators"
   ]
  },
  {
   "cell_type": "markdown",
   "id": "4dab5017",
   "metadata": {},
   "source": [
    "6) How do you tell the difference between the equal to and assignment operators?Describe a\n",
    "condition and when you would use one."
   ]
  },
  {
   "cell_type": "markdown",
   "id": "96683517",
   "metadata": {},
   "source": [
    "    Ans - equal to (==) is use to show the operands are equal. on the other hand (=) assignment operators are used to assign some value."
   ]
  },
  {
   "cell_type": "code",
   "execution_count": 16,
   "id": "c6d5927b",
   "metadata": {},
   "outputs": [],
   "source": [
    "# eg -\n",
    "a = 10\n",
    "b = 10"
   ]
  },
  {
   "cell_type": "code",
   "execution_count": 17,
   "id": "724c7d59",
   "metadata": {},
   "outputs": [
    {
     "data": {
      "text/plain": [
       "True"
      ]
     },
     "execution_count": 17,
     "metadata": {},
     "output_type": "execute_result"
    }
   ],
   "source": [
    "a == b"
   ]
  },
  {
   "cell_type": "markdown",
   "id": "521e99ee",
   "metadata": {},
   "source": [
    "7) Identify the three blocks in this code:"
   ]
  },
  {
   "cell_type": "code",
   "execution_count": 19,
   "id": "da33bddf",
   "metadata": {},
   "outputs": [
    {
     "name": "stdout",
     "output_type": "stream",
     "text": [
      "ham\n",
      "spam\n",
      "spam\n"
     ]
    }
   ],
   "source": [
    "spam = 0\n",
    "\n",
    "if spam ==10:        # block 1\n",
    "    print('eggs')\n",
    "    \n",
    "if spam > 5 :        # block 2\n",
    "    print('bacon')\n",
    "    \n",
    "else:                # block 3\n",
    "    print('ham')\n",
    "    print('spam')\n",
    "    print('spam')"
   ]
  },
  {
   "cell_type": "markdown",
   "id": "5576d7eb",
   "metadata": {},
   "source": [
    "8) Write code that prints Hello if 1 is stored in spam, prints Howdy if 2 is stored in spam, and prints\n",
    "Greetings! if anything else is stored in spam."
   ]
  },
  {
   "cell_type": "code",
   "execution_count": 22,
   "id": "9102ebfc",
   "metadata": {},
   "outputs": [
    {
     "name": "stdout",
     "output_type": "stream",
     "text": [
      "Enter the number : 6\n",
      "\n",
      "Greetings!\n"
     ]
    }
   ],
   "source": [
    "spam = int(input('Enter the number : ')) \n",
    "print()\n",
    "if spam == 1:\n",
    "    print('Hello')\n",
    "elif spam == 2:\n",
    "    print('Howdy')\n",
    "else :\n",
    "    print('Greetings!')"
   ]
  },
  {
   "cell_type": "markdown",
   "id": "5baa0c84",
   "metadata": {},
   "source": [
    "9) If your programme is stuck in an endless loop, what keys you’ll press?"
   ]
  },
  {
   "cell_type": "markdown",
   "id": "bfc6300a",
   "metadata": {},
   "source": [
    "    Ans - break"
   ]
  },
  {
   "cell_type": "markdown",
   "id": "2b0da02f",
   "metadata": {},
   "source": [
    "10) How can you tell the difference between break and continue?"
   ]
  },
  {
   "cell_type": "markdown",
   "id": "1bdb10f3",
   "metadata": {},
   "source": [
    "    Ans - break statement is used to terminate the current loop and to pass the control to next statement. where as continue statement is use to stop current iteration and continued the next one."
   ]
  },
  {
   "cell_type": "markdown",
   "id": "72b840e4",
   "metadata": {},
   "source": [
    "11) In a for loop, what is the difference between range(10), range(0, 10), and range(0, 10, 1)?"
   ]
  },
  {
   "cell_type": "markdown",
   "id": "0b1dde5e",
   "metadata": {},
   "source": [
    "    Ans - both three statements are same."
   ]
  },
  {
   "cell_type": "code",
   "execution_count": 24,
   "id": "641107c7",
   "metadata": {},
   "outputs": [
    {
     "name": "stdout",
     "output_type": "stream",
     "text": [
      "0\n",
      "1\n",
      "2\n",
      "3\n",
      "4\n",
      "5\n",
      "6\n",
      "7\n",
      "8\n",
      "9\n"
     ]
    }
   ],
   "source": [
    "for a in range(10):\n",
    "    print(a)"
   ]
  },
  {
   "cell_type": "code",
   "execution_count": 25,
   "id": "e3e11a81",
   "metadata": {},
   "outputs": [
    {
     "name": "stdout",
     "output_type": "stream",
     "text": [
      "0\n",
      "1\n",
      "2\n",
      "3\n",
      "4\n",
      "5\n",
      "6\n",
      "7\n",
      "8\n",
      "9\n"
     ]
    }
   ],
   "source": [
    "for b in range(0,10):\n",
    "    print(b)"
   ]
  },
  {
   "cell_type": "code",
   "execution_count": 26,
   "id": "fc555a50",
   "metadata": {},
   "outputs": [
    {
     "name": "stdout",
     "output_type": "stream",
     "text": [
      "0\n",
      "1\n",
      "2\n",
      "3\n",
      "4\n",
      "5\n",
      "6\n",
      "7\n",
      "8\n",
      "9\n"
     ]
    }
   ],
   "source": [
    "for c in range(0,10,1):\n",
    "    print(c)"
   ]
  },
  {
   "cell_type": "markdown",
   "id": "f248abf5",
   "metadata": {},
   "source": [
    "12) Write a short program that prints the numbers 1 to 10 using a for loop. Then write an equivalent\n",
    "program that prints the numbers 1 to 10 using a while loop."
   ]
  },
  {
   "cell_type": "code",
   "execution_count": 3,
   "id": "a651e916",
   "metadata": {},
   "outputs": [
    {
     "name": "stdout",
     "output_type": "stream",
     "text": [
      "1\n",
      "2\n",
      "3\n",
      "4\n",
      "5\n",
      "6\n",
      "7\n",
      "8\n",
      "9\n",
      "10\n"
     ]
    }
   ],
   "source": [
    "for i in range(1,11):\n",
    "    print(i)"
   ]
  },
  {
   "cell_type": "code",
   "execution_count": 4,
   "id": "bee8e58d",
   "metadata": {},
   "outputs": [
    {
     "name": "stdout",
     "output_type": "stream",
     "text": [
      "1\n",
      "2\n",
      "3\n",
      "4\n",
      "5\n",
      "6\n",
      "7\n",
      "8\n",
      "9\n",
      "10\n"
     ]
    }
   ],
   "source": [
    "j = 1\n",
    "while j <= 10:\n",
    "    print(j)\n",
    "    j = j + 1"
   ]
  },
  {
   "cell_type": "markdown",
   "id": "bdf6fd67",
   "metadata": {},
   "source": [
    "13) If you had a function named bacon() inside a module named spam, how would you call it after\n",
    "importing spam?"
   ]
  },
  {
   "cell_type": "markdown",
   "id": "136c5285",
   "metadata": {},
   "source": [
    "    Ans - spam.bacon()"
   ]
  },
  {
   "cell_type": "code",
   "execution_count": null,
   "id": "d5371b01",
   "metadata": {},
   "outputs": [],
   "source": []
  }
 ],
 "metadata": {
  "kernelspec": {
   "display_name": "Python 3 (ipykernel)",
   "language": "python",
   "name": "python3"
  },
  "language_info": {
   "codemirror_mode": {
    "name": "ipython",
    "version": 3
   },
   "file_extension": ".py",
   "mimetype": "text/x-python",
   "name": "python",
   "nbconvert_exporter": "python",
   "pygments_lexer": "ipython3",
   "version": "3.9.12"
  }
 },
 "nbformat": 4,
 "nbformat_minor": 5
}
