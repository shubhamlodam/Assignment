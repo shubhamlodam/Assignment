{
 "cells": [
  {
   "cell_type": "markdown",
   "id": "004f5857",
   "metadata": {},
   "source": [
    "# Assignment No. 1"
   ]
  },
  {
   "cell_type": "markdown",
   "id": "bf71b735",
   "metadata": {},
   "source": [
    "1. In the below elements which of them are values or an expression? eg:- values can be\n",
    "integer or string and expressions will be mathematical operators.\n",
    "\n",
    "*\n",
    "\n",
    "'hello'\n",
    "\n",
    "-87.8\n",
    "\n",
    "-\n",
    "\n",
    "/\n",
    "\n",
    "+\n",
    "\n",
    "6"
   ]
  },
  {
   "cell_type": "markdown",
   "id": "8f01a408",
   "metadata": {},
   "source": [
    "    Answer-    Values - 'hello', -87.8, 6"
   ]
  },
  {
   "cell_type": "markdown",
   "id": "7fdd28ba",
   "metadata": {},
   "source": [
    "            Expressions  - /, +, -,*"
   ]
  },
  {
   "cell_type": "markdown",
   "id": "fc2f80b8",
   "metadata": {},
   "source": [
    "2. What is the difference between string and variable?"
   ]
  },
  {
   "cell_type": "markdown",
   "id": "dc5e6f7d",
   "metadata": {},
   "source": [
    "    Answer -  String - string is a collection of characters that are enclosed in a quotes. It is a data type in python. It can be written in single,double or triple quotes.eg- 'hello world',\"hello world\",\"'hello world'\"  "
   ]
  },
  {
   "cell_type": "markdown",
   "id": "3223da6f",
   "metadata": {},
   "source": [
    "           Variable - Variable is the name give to memory location or a container used to hold values. where It can be any integer, string or float value."
   ]
  },
  {
   "cell_type": "markdown",
   "id": "12639312",
   "metadata": {},
   "source": [
    "3. Describe three different data types."
   ]
  },
  {
   "cell_type": "markdown",
   "id": "be62348c",
   "metadata": {},
   "source": [
    "    Answer - a) Integer - Integer is the number which can be positive, negative and even zero. eg. 0, -23, 5."
   ]
  },
  {
   "cell_type": "markdown",
   "id": "e2f088f3",
   "metadata": {},
   "source": [
    "         b) float - float is number in which decimal point is present eg. 5.23, 78.5 etc."
   ]
  },
  {
   "cell_type": "markdown",
   "id": "a957610f",
   "metadata": {},
   "source": [
    "         c) Boolean - boolean is use to represent generally two values i.e, True or False, it is use in expression to test whether the result is True or False."
   ]
  },
  {
   "cell_type": "markdown",
   "id": "24b5be43",
   "metadata": {},
   "source": [
    "4. What is an expression made up of? What do all expressions do?"
   ]
  },
  {
   "cell_type": "markdown",
   "id": "744de271",
   "metadata": {},
   "source": [
    "    Answer - An expression is made up of values and functions that together combined and produces the other value."
   ]
  },
  {
   "cell_type": "markdown",
   "id": "d86d8f3f",
   "metadata": {},
   "source": [
    "5. This assignment statements, like spam = 10. What is the difference between an\n",
    "expression and a statement?"
   ]
  },
  {
   "cell_type": "markdown",
   "id": "8f4d0385",
   "metadata": {},
   "source": [
    "    Answer - Statement - Statement is basically a standalone unit that doesn't produce any result."
   ]
  },
  {
   "cell_type": "markdown",
   "id": "20ecab4a",
   "metadata": {},
   "source": [
    "         Expression - An expression is made up of values and functions that together combined and produces the other value."
   ]
  },
  {
   "cell_type": "markdown",
   "id": "4c85a385",
   "metadata": {},
   "source": [
    "6. After running the following code, what does the variable bacon contain?\n",
    "bacon = 22\n",
    "bacon + 1"
   ]
  },
  {
   "cell_type": "code",
   "execution_count": 10,
   "id": "4ba46c65",
   "metadata": {},
   "outputs": [
    {
     "name": "stdout",
     "output_type": "stream",
     "text": [
      "the variable bacon contains :  23\n"
     ]
    }
   ],
   "source": [
    "bacon = 22\n",
    "b = bacon + 1\n",
    "print(\"the variable bacon contains : \", b)"
   ]
  },
  {
   "cell_type": "markdown",
   "id": "6bb9dfb1",
   "metadata": {},
   "source": [
    "7. What should the values of the following two terms be?\n",
    "'spam'+'spamspam' \n",
    "'spam'*3"
   ]
  },
  {
   "cell_type": "code",
   "execution_count": 11,
   "id": "dc638cc2",
   "metadata": {},
   "outputs": [
    {
     "name": "stdout",
     "output_type": "stream",
     "text": [
      "spamspamspam\n"
     ]
    }
   ],
   "source": [
    "x = 'spam'+'spamspam'\n",
    "print(x)"
   ]
  },
  {
   "cell_type": "code",
   "execution_count": 12,
   "id": "5ab93a61",
   "metadata": {},
   "outputs": [
    {
     "name": "stdout",
     "output_type": "stream",
     "text": [
      "spamspamspam\n"
     ]
    }
   ],
   "source": [
    "y = 'spam'*3\n",
    "print(y)"
   ]
  },
  {
   "cell_type": "markdown",
   "id": "498ca9a1",
   "metadata": {},
   "source": [
    "8. Why is eggs a valid variable name while 100 is invalid?"
   ]
  },
  {
   "cell_type": "markdown",
   "id": "57f17149",
   "metadata": {},
   "source": [
    "    Answer - variable can't be a digit only. it contains digit but the condition is it can be only started with alphabates, underscores. so eggs is valid variable name and 100 invalid."
   ]
  },
  {
   "cell_type": "markdown",
   "id": "d6562ec4",
   "metadata": {},
   "source": [
    "9. What three functions can be used to get the integer, floating-point number, or string\n",
    "version of a value?"
   ]
  },
  {
   "cell_type": "markdown",
   "id": "13374c3a",
   "metadata": {},
   "source": [
    "    Answer - int(), float(), str()"
   ]
  },
  {
   "cell_type": "markdown",
   "id": "5c37e0c6",
   "metadata": {},
   "source": [
    "10. Why does this expression cause an error? How can you fix it?"
   ]
  },
  {
   "cell_type": "markdown",
   "id": "4044743e",
   "metadata": {},
   "source": [
    "'I have eaten' + 99 + 'burritos'   this expression contains error because 99 is integer value and rest of the two are string type value. thats why we are facing error. for fixing this expression we have to put 99 also in quotes. so as to convert 99 which is integer type value into string type."
   ]
  },
  {
   "cell_type": "code",
   "execution_count": 15,
   "id": "eb8b3cb5",
   "metadata": {},
   "outputs": [
    {
     "ename": "TypeError",
     "evalue": "can only concatenate str (not \"int\") to str",
     "output_type": "error",
     "traceback": [
      "\u001b[1;31m---------------------------------------------------------------------------\u001b[0m",
      "\u001b[1;31mTypeError\u001b[0m                                 Traceback (most recent call last)",
      "Input \u001b[1;32mIn [15]\u001b[0m, in \u001b[0;36m<cell line: 1>\u001b[1;34m()\u001b[0m\n\u001b[1;32m----> 1\u001b[0m \u001b[38;5;124;43m'\u001b[39;49m\u001b[38;5;124;43mI have eaten\u001b[39;49m\u001b[38;5;124;43m'\u001b[39;49m\u001b[43m \u001b[49m\u001b[38;5;241;43m+\u001b[39;49m\u001b[43m \u001b[49m\u001b[38;5;241;43m99\u001b[39;49m \u001b[38;5;241m+\u001b[39m \u001b[38;5;124m'\u001b[39m\u001b[38;5;124mburritos\u001b[39m\u001b[38;5;124m'\u001b[39m\n",
      "\u001b[1;31mTypeError\u001b[0m: can only concatenate str (not \"int\") to str"
     ]
    }
   ],
   "source": [
    "'I have eaten' + 99 + 'burritos'"
   ]
  },
  {
   "cell_type": "code",
   "execution_count": 18,
   "id": "e10746c5",
   "metadata": {},
   "outputs": [
    {
     "data": {
      "text/plain": [
       "'I have eaten 99 burritos.'"
      ]
     },
     "execution_count": 18,
     "metadata": {},
     "output_type": "execute_result"
    }
   ],
   "source": [
    "'I have eaten' + ' 99 ' + 'burritos.'"
   ]
  },
  {
   "cell_type": "code",
   "execution_count": null,
   "id": "d30efe7d",
   "metadata": {},
   "outputs": [],
   "source": []
  }
 ],
 "metadata": {
  "kernelspec": {
   "display_name": "Python 3 (ipykernel)",
   "language": "python",
   "name": "python3"
  },
  "language_info": {
   "codemirror_mode": {
    "name": "ipython",
    "version": 3
   },
   "file_extension": ".py",
   "mimetype": "text/x-python",
   "name": "python",
   "nbconvert_exporter": "python",
   "pygments_lexer": "ipython3",
   "version": "3.9.12"
  }
 },
 "nbformat": 4,
 "nbformat_minor": 5
}
